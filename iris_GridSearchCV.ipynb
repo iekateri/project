{
  "nbformat": 4,
  "nbformat_minor": 0,
  "metadata": {
    "colab": {
      "provenance": [],
      "authorship_tag": "ABX9TyMzF5vp8kY7vk8zw9LJQ99n"
    },
    "kernelspec": {
      "name": "python3",
      "display_name": "Python 3"
    },
    "language_info": {
      "name": "python"
    }
  },
  "cells": [
    {
      "cell_type": "markdown",
      "source": [
        "Осуществите перебор всех деревьев на данных ириса по следующим параметрам:\n",
        "максимальная глубина - от 1 до 10 уровней\n",
        "минимальное число проб для разделения - от 2 до 10\n",
        "минимальное число проб в листе - от 1 до 10\n",
        "и сохраните в переменную best_tree лучшее дерево."
      ],
      "metadata": {
        "id": "b6J2w_97G5to"
      }
    },
    {
      "cell_type": "code",
      "execution_count": 1,
      "metadata": {
        "id": "Uk5oswB7F-Dp"
      },
      "outputs": [],
      "source": [
        "# импортирую необходимые модули\n",
        "import pandas as pd\n",
        "from sklearn.tree import DecisionTreeClassifier\n",
        "from sklearn.model_selection import GridSearchCV\n",
        "from sklearn.datasets import load_iris"
      ]
    },
    {
      "cell_type": "code",
      "source": [
        "# определяю DataFrame, по которому буду строить дерево решений\n",
        "iris = load_iris()\n",
        "X = iris.data\n",
        "y = iris.target"
      ],
      "metadata": {
        "id": "ISjFs189GB9E"
      },
      "execution_count": 2,
      "outputs": []
    },
    {
      "cell_type": "code",
      "source": [
        "# создаю дерево решений\n",
        "dt = DecisionTreeClassifier(criterion='entropy')"
      ],
      "metadata": {
        "id": "bBJn_q2oGKIC"
      },
      "execution_count": 3,
      "outputs": []
    },
    {
      "cell_type": "code",
      "source": [
        "# создаю словарь параметров\n",
        "parametrs = {'criterion': ['entropy'],\n",
        "             'max_depth': range(1, 10),\n",
        "             'min_samples_split': range(2, 10),\n",
        "             'min_samples_leaf': range(1, 10)}"
      ],
      "metadata": {
        "id": "Nc8ZxMiGGRz2"
      },
      "execution_count": 4,
      "outputs": []
    },
    {
      "cell_type": "code",
      "source": [
        "# обучаю дерево с перебором значений параметров\n",
        "search = GridSearchCV(dt, parametrs)\n",
        "search.fit(X,y)"
      ],
      "metadata": {
        "colab": {
          "base_uri": "https://localhost:8080/"
        },
        "id": "V6DCMxLLGX5V",
        "outputId": "f5d9bb25-9218-440c-cd3b-8b5f95bc923b"
      },
      "execution_count": 5,
      "outputs": [
        {
          "output_type": "execute_result",
          "data": {
            "text/plain": [
              "GridSearchCV(estimator=DecisionTreeClassifier(criterion='entropy'),\n",
              "             param_grid={'criterion': ['entropy'], 'max_depth': range(1, 10),\n",
              "                         'min_samples_leaf': range(1, 10),\n",
              "                         'min_samples_split': range(2, 10)})"
            ]
          },
          "metadata": {},
          "execution_count": 5
        }
      ]
    },
    {
      "cell_type": "code",
      "source": [
        "# получаю дерево с лучшим сочетаением параметров\n",
        "best_tree = search.best_estimator_\n",
        "best_tree"
      ],
      "metadata": {
        "colab": {
          "base_uri": "https://localhost:8080/"
        },
        "id": "ZJMd5E0zGjzl",
        "outputId": "d9c3450d-a7ae-4358-d6b7-0dd1ddd080a9"
      },
      "execution_count": 6,
      "outputs": [
        {
          "output_type": "execute_result",
          "data": {
            "text/plain": [
              "DecisionTreeClassifier(criterion='entropy', max_depth=8)"
            ]
          },
          "metadata": {},
          "execution_count": 6
        }
      ]
    }
  ]
}