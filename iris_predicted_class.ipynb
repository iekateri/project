{
  "nbformat": 4,
  "nbformat_minor": 0,
  "metadata": {
    "colab": {
      "provenance": [],
      "authorship_tag": "ABX9TyNnYqho94EdedR7D7Arjmxp"
    },
    "kernelspec": {
      "name": "python3",
      "display_name": "Python 3"
    },
    "language_info": {
      "name": "python"
    }
  },
  "cells": [
    {
      "cell_type": "markdown",
      "source": [
        "Вам даны 2 numpy array с измеренными признаками ирисов и их принадлежностью к виду. Разделите данные на тренировочные и тестовые по 75% и 25% соответственно. Обучите дерево на тренировочных данных, а после предскажите классы, к которым принадлежат данные из тестовой выборки, сохраните результат предсказаний в переменную predicted."
      ],
      "metadata": {
        "id": "AMeyLcxvCzF1"
      }
    },
    {
      "cell_type": "code",
      "source": [
        "# импортирую необходимые модули\n",
        "import pandas as pd\n",
        "from sklearn.tree import DecisionTreeClassifier\n",
        "from sklearn.model_selection import train_test_split\n",
        "from sklearn.datasets import load_iris\n",
        "from sklearn.tree import DecisionTreeClassifier"
      ],
      "metadata": {
        "id": "ATaznCjHDS-T"
      },
      "execution_count": 5,
      "outputs": []
    },
    {
      "cell_type": "code",
      "source": [
        "# определяю DataFrame, по которому буду строить дерево решений\n",
        "iris = load_iris()\n",
        "X = iris.data\n",
        "y = iris.target"
      ],
      "metadata": {
        "id": "u0sa3MmGDwjT"
      },
      "execution_count": 6,
      "outputs": []
    },
    {
      "cell_type": "code",
      "source": [
        "# разбиваю DataFrame на подмножества test и train в пропорции 0.75-train, а 0.25-test\n",
        "_train, X_test, y_train, y_test = train_test_split(X, y, test_size = 0.25)"
      ],
      "metadata": {
        "id": "CXMPIoX6D0lz"
      },
      "execution_count": 7,
      "outputs": []
    },
    {
      "cell_type": "code",
      "source": [
        "# создаю дерево решений с параметрами по умолчанию\n",
        "dt = DecisionTreeClassifier()"
      ],
      "metadata": {
        "id": "io1tqCb8EpHo"
      },
      "execution_count": 8,
      "outputs": []
    },
    {
      "cell_type": "code",
      "source": [
        "# обучаю дерево решений на подмножестве train\n",
        "dt.fit(X_train, y_train);"
      ],
      "metadata": {
        "id": "oSVSQ8UIEqXw"
      },
      "execution_count": 11,
      "outputs": []
    },
    {
      "cell_type": "code",
      "source": [
        "# предсказываю классы, к которым принадлежат данные из тестовой выборки\n",
        "predicted = dt.predict(X_test)\n",
        "predicted"
      ],
      "metadata": {
        "colab": {
          "base_uri": "https://localhost:8080/"
        },
        "id": "ksdyn3FHEte5",
        "outputId": "a28de36d-a3a8-4616-c78e-341cf95b79b1"
      },
      "execution_count": 12,
      "outputs": [
        {
          "output_type": "execute_result",
          "data": {
            "text/plain": [
              "array([0, 2, 1, 2, 0, 1, 2, 0, 0, 2, 0, 2, 2, 2, 1, 2, 0, 2, 1, 0, 2, 0,\n",
              "       0, 1, 0, 0, 2, 2, 0, 0, 0, 2, 1, 2, 0, 0, 2, 2])"
            ]
          },
          "metadata": {},
          "execution_count": 12
        }
      ]
    }
  ]
}